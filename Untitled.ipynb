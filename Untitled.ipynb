{
 "cells": [
  {
   "cell_type": "code",
   "execution_count": 2,
   "metadata": {
    "ExecuteTime": {
     "end_time": "2021-06-22T07:54:59.711072Z",
     "start_time": "2021-06-22T07:54:59.706299Z"
    }
   },
   "outputs": [],
   "source": [
    "pippo = 10"
   ]
  },
  {
   "cell_type": "code",
   "execution_count": 10,
   "metadata": {
    "ExecuteTime": {
     "end_time": "2021-06-22T07:59:10.588493Z",
     "start_time": "2021-06-22T07:59:10.579301Z"
    }
   },
   "outputs": [
    {
     "name": "stdout",
     "output_type": "stream",
     "text": [
      "75\n"
     ]
    }
   ],
   "source": [
    "pluto = 15\n",
    "pippo = 5\n",
    "area = pippo * pluto\n",
    "print(area)"
   ]
  },
  {
   "cell_type": "code",
   "execution_count": 11,
   "metadata": {
    "ExecuteTime": {
     "end_time": "2021-06-22T08:02:36.647454Z",
     "start_time": "2021-06-22T08:02:36.642678Z"
    }
   },
   "outputs": [],
   "source": [
    "shelly = 15"
   ]
  },
  {
   "cell_type": "code",
   "execution_count": 12,
   "metadata": {
    "ExecuteTime": {
     "end_time": "2021-06-22T08:03:06.717792Z",
     "start_time": "2021-06-22T08:03:06.711871Z"
    }
   },
   "outputs": [
    {
     "data": {
      "text/plain": [
       "True"
      ]
     },
     "execution_count": 12,
     "metadata": {},
     "output_type": "execute_result"
    }
   ],
   "source": [
    "bool(shelly)"
   ]
  },
  {
   "cell_type": "code",
   "execution_count": 13,
   "metadata": {
    "ExecuteTime": {
     "end_time": "2021-06-22T08:03:16.117445Z",
     "start_time": "2021-06-22T08:03:16.112679Z"
    }
   },
   "outputs": [],
   "source": [
    "zero = 0"
   ]
  },
  {
   "cell_type": "code",
   "execution_count": 14,
   "metadata": {
    "ExecuteTime": {
     "end_time": "2021-06-22T08:03:22.007646Z",
     "start_time": "2021-06-22T08:03:22.001100Z"
    }
   },
   "outputs": [
    {
     "data": {
      "text/plain": [
       "False"
      ]
     },
     "execution_count": 14,
     "metadata": {},
     "output_type": "execute_result"
    }
   ],
   "source": [
    "bool(zero)"
   ]
  },
  {
   "cell_type": "code",
   "execution_count": 15,
   "metadata": {
    "ExecuteTime": {
     "end_time": "2021-06-22T08:03:43.782201Z",
     "start_time": "2021-06-22T08:03:43.775637Z"
    }
   },
   "outputs": [
    {
     "data": {
      "text/plain": [
       "False"
      ]
     },
     "execution_count": 15,
     "metadata": {},
     "output_type": "execute_result"
    }
   ],
   "source": [
    "bool(\"\")"
   ]
  },
  {
   "cell_type": "code",
   "execution_count": 16,
   "metadata": {
    "ExecuteTime": {
     "end_time": "2021-06-22T08:11:18.830966Z",
     "start_time": "2021-06-22T08:11:18.825972Z"
    }
   },
   "outputs": [],
   "source": [
    "x = 10\n",
    "y = 15"
   ]
  },
  {
   "cell_type": "code",
   "execution_count": 18,
   "metadata": {
    "ExecuteTime": {
     "end_time": "2021-06-22T08:12:15.270902Z",
     "start_time": "2021-06-22T08:12:15.262908Z"
    }
   },
   "outputs": [
    {
     "data": {
      "text/plain": [
       "False"
      ]
     },
     "execution_count": 18,
     "metadata": {},
     "output_type": "execute_result"
    }
   ],
   "source": [
    "x > 11"
   ]
  },
  {
   "cell_type": "code",
   "execution_count": null,
   "metadata": {},
   "outputs": [],
   "source": [
    "x < 20\n",
    "\n",
    "x > 11\n",
    "x != y\n",
    "x == y\n",
    "x <= 10\n",
    "y >= 5"
   ]
  },
  {
   "cell_type": "code",
   "execution_count": 19,
   "metadata": {
    "ExecuteTime": {
     "end_time": "2021-06-22T08:12:25.605997Z",
     "start_time": "2021-06-22T08:12:25.599521Z"
    }
   },
   "outputs": [
    {
     "data": {
      "text/plain": [
       "True"
      ]
     },
     "execution_count": 19,
     "metadata": {},
     "output_type": "execute_result"
    }
   ],
   "source": [
    "x != y"
   ]
  },
  {
   "cell_type": "code",
   "execution_count": 20,
   "metadata": {
    "ExecuteTime": {
     "end_time": "2021-06-22T08:12:35.324103Z",
     "start_time": "2021-06-22T08:12:35.313608Z"
    }
   },
   "outputs": [
    {
     "data": {
      "text/plain": [
       "True"
      ]
     },
     "execution_count": 20,
     "metadata": {},
     "output_type": "execute_result"
    }
   ],
   "source": [
    "y >= 5"
   ]
  },
  {
   "cell_type": "code",
   "execution_count": 21,
   "metadata": {
    "ExecuteTime": {
     "end_time": "2021-06-22T08:12:51.984811Z",
     "start_time": "2021-06-22T08:12:51.979186Z"
    }
   },
   "outputs": [
    {
     "data": {
      "text/plain": [
       "True"
      ]
     },
     "execution_count": 21,
     "metadata": {},
     "output_type": "execute_result"
    }
   ],
   "source": [
    "y >= 15"
   ]
  },
  {
   "cell_type": "code",
   "execution_count": null,
   "metadata": {},
   "outputs": [],
   "source": [
    "# x maggiore di 10 e minore di 20"
   ]
  },
  {
   "cell_type": "code",
   "execution_count": 23,
   "metadata": {
    "ExecuteTime": {
     "end_time": "2021-06-22T08:14:22.303385Z",
     "start_time": "2021-06-22T08:14:22.287352Z"
    }
   },
   "outputs": [
    {
     "data": {
      "text/plain": [
       "True"
      ]
     },
     "execution_count": 23,
     "metadata": {},
     "output_type": "execute_result"
    }
   ],
   "source": [
    "x >= 10 and x <= 20"
   ]
  },
  {
   "cell_type": "code",
   "execution_count": 24,
   "metadata": {
    "ExecuteTime": {
     "end_time": "2021-06-22T08:15:03.847542Z",
     "start_time": "2021-06-22T08:15:03.833736Z"
    }
   },
   "outputs": [
    {
     "data": {
      "text/plain": [
       "True"
      ]
     },
     "execution_count": 24,
     "metadata": {},
     "output_type": "execute_result"
    }
   ],
   "source": [
    "True and True"
   ]
  },
  {
   "cell_type": "code",
   "execution_count": null,
   "metadata": {},
   "outputs": [],
   "source": [
    "# x non è compreso fra 10 e 20"
   ]
  },
  {
   "cell_type": "code",
   "execution_count": null,
   "metadata": {},
   "outputs": [],
   "source": [
    "(x < 10 or x > 20) and (x >= 10 and x <= 20)"
   ]
  },
  {
   "cell_type": "code",
   "execution_count": 25,
   "metadata": {
    "ExecuteTime": {
     "end_time": "2021-06-22T08:23:52.105205Z",
     "start_time": "2021-06-22T08:23:52.096589Z"
    }
   },
   "outputs": [
    {
     "data": {
      "text/plain": [
       "False"
      ]
     },
     "execution_count": 25,
     "metadata": {},
     "output_type": "execute_result"
    }
   ],
   "source": [
    "not x > 5"
   ]
  },
  {
   "cell_type": "code",
   "execution_count": null,
   "metadata": {},
   "outputs": [],
   "source": []
  },
  {
   "cell_type": "code",
   "execution_count": null,
   "metadata": {},
   "outputs": [],
   "source": []
  },
  {
   "cell_type": "code",
   "execution_count": 26,
   "metadata": {
    "ExecuteTime": {
     "end_time": "2021-06-22T08:26:10.922625Z",
     "start_time": "2021-06-22T08:26:10.918762Z"
    }
   },
   "outputs": [],
   "source": [
    "# restituire il valore assoluto di un numero inserito da tastiera"
   ]
  },
  {
   "cell_type": "code",
   "execution_count": 31,
   "metadata": {
    "ExecuteTime": {
     "end_time": "2021-06-22T08:31:18.256574Z",
     "start_time": "2021-06-22T08:31:15.742487Z"
    }
   },
   "outputs": [
    {
     "name": "stdout",
     "output_type": "stream",
     "text": [
      "inserisci un numero: 20\n",
      "Il valore assoluto è 20\n"
     ]
    }
   ],
   "source": [
    "numero = int(input(\"inserisci un numero: \"))\n",
    "\n",
    "if numero < 0:\n",
    "    print(\"Il numero è negativo, quindi lo moltiplico per -1\")\n",
    "    numero = numero * -1\n",
    "\n",
    "print(\"Il valore assoluto è\", numero)"
   ]
  },
  {
   "cell_type": "code",
   "execution_count": null,
   "metadata": {},
   "outputs": [],
   "source": [
    "if (numero < 0) {\n",
    "print(\"Il numero è negativo, quindi lo moltiplico per -1\")\n",
    "numero = numero * -1\n",
    "}\n",
    "\n",
    "print(\"Il valore assoluto è\", numero)"
   ]
  },
  {
   "cell_type": "code",
   "execution_count": 33,
   "metadata": {
    "ExecuteTime": {
     "end_time": "2021-06-22T08:39:53.702081Z",
     "start_time": "2021-06-22T08:39:50.847892Z"
    }
   },
   "outputs": [
    {
     "name": "stdout",
     "output_type": "stream",
     "text": [
      "inserisci un numero: 10\n",
      "a\n",
      "b\n",
      "c\n",
      "d\n"
     ]
    }
   ],
   "source": [
    "numero = int(input(\"inserisci un numero: \"))\n",
    "\n",
    "if numero == 10:\n",
    "    print('a')\n",
    "    print('b')\n",
    "    print('c')\n",
    "    \n",
    "print('d')"
   ]
  },
  {
   "cell_type": "code",
   "execution_count": null,
   "metadata": {},
   "outputs": [],
   "source": []
  },
  {
   "cell_type": "code",
   "execution_count": null,
   "metadata": {},
   "outputs": [],
   "source": [
    "# stampare il maggiore fra due numeri acquisiti da tastiera"
   ]
  },
  {
   "cell_type": "code",
   "execution_count": 35,
   "metadata": {
    "ExecuteTime": {
     "end_time": "2021-06-22T08:53:52.325209Z",
     "start_time": "2021-06-22T08:53:48.506834Z"
    }
   },
   "outputs": [
    {
     "name": "stdout",
     "output_type": "stream",
     "text": [
      "Scrivi un numero: 12\n",
      "Scrivi un numero: 12\n",
      "Il numero maggiore è 12\n"
     ]
    }
   ],
   "source": [
    "numero1 = int(input(\"Scrivi un numero: \"))\n",
    "numero2 = int(input(\"Scrivi un numero: \"))\n",
    "\n",
    "if numero1 > numero2:\n",
    "    print(\"Il numero maggiore è\", numero1)\n",
    "else:\n",
    "    print(\"Il numero maggiore è\", numero2)"
   ]
  },
  {
   "cell_type": "code",
   "execution_count": null,
   "metadata": {},
   "outputs": [],
   "source": []
  },
  {
   "cell_type": "code",
   "execution_count": 36,
   "metadata": {
    "ExecuteTime": {
     "end_time": "2021-06-22T09:11:04.345542Z",
     "start_time": "2021-06-22T09:11:04.341354Z"
    }
   },
   "outputs": [],
   "source": [
    "pippo = \"francesco\""
   ]
  },
  {
   "cell_type": "code",
   "execution_count": 38,
   "metadata": {
    "ExecuteTime": {
     "end_time": "2021-06-22T09:11:22.739428Z",
     "start_time": "2021-06-22T09:11:22.733920Z"
    }
   },
   "outputs": [
    {
     "data": {
      "text/plain": [
       "'f'"
      ]
     },
     "execution_count": 38,
     "metadata": {},
     "output_type": "execute_result"
    }
   ],
   "source": [
    "pippo[0]"
   ]
  },
  {
   "cell_type": "code",
   "execution_count": 39,
   "metadata": {
    "ExecuteTime": {
     "end_time": "2021-06-22T09:11:37.588071Z",
     "start_time": "2021-06-22T09:11:37.577635Z"
    }
   },
   "outputs": [
    {
     "data": {
      "text/plain": [
       "9"
      ]
     },
     "execution_count": 39,
     "metadata": {},
     "output_type": "execute_result"
    }
   ],
   "source": [
    "len(pippo)"
   ]
  },
  {
   "cell_type": "code",
   "execution_count": null,
   "metadata": {},
   "outputs": [],
   "source": [
    "stringa = input(\"stringa: \")\n",
    "length = len(stringa)"
   ]
  },
  {
   "cell_type": "code",
   "execution_count": 40,
   "metadata": {
    "ExecuteTime": {
     "end_time": "2021-06-22T10:08:28.485511Z",
     "start_time": "2021-06-22T10:08:28.476783Z"
    }
   },
   "outputs": [],
   "source": [
    "# trovare il maggiore fra tre numeri interi inseriti dall'utente"
   ]
  },
  {
   "cell_type": "code",
   "execution_count": null,
   "metadata": {},
   "outputs": [],
   "source": [
    "# DRY: don't repeat yourself"
   ]
  },
  {
   "cell_type": "code",
   "execution_count": 47,
   "metadata": {
    "ExecuteTime": {
     "end_time": "2021-06-22T10:14:16.281591Z",
     "start_time": "2021-06-22T10:14:11.982967Z"
    }
   },
   "outputs": [
    {
     "name": "stdout",
     "output_type": "stream",
     "text": [
      "inserisci un numero: 20\n",
      "inserisci un numero: 20\n",
      "inserisci un numero: 20\n",
      "il maggiore è 20\n"
     ]
    }
   ],
   "source": [
    "num1 = int(input(\"inserisci un numero: \"))\n",
    "num2 = int(input(\"inserisci un numero: \"))\n",
    "num3 = int(input(\"inserisci un numero: \"))\n",
    "\n",
    "if num1 == num2 == num3:\n",
    "    print(\"I numeri sono uguali!\")\n",
    "    print(\"hh\")\n",
    "else:\n",
    "    if num1 > num2 and num1 > num3:\n",
    "        print(\"il maggiore è\", num1)\n",
    "        print(\"hh\")\n",
    "    elif num2 > num3:\n",
    "        print(\"il maggiore è\", num2)\n",
    "        print(\"hh\")\n",
    "    else:\n",
    "        print(\"il maggiore è\", num3)\n",
    "        print(\"hh\")\n",
    "    "
   ]
  },
  {
   "cell_type": "code",
   "execution_count": null,
   "metadata": {},
   "outputs": [],
   "source": [
    "num1 == num2 == num3"
   ]
  },
  {
   "cell_type": "code",
   "execution_count": null,
   "metadata": {},
   "outputs": [],
   "source": [
    "num1 == num2 and num2 == num3"
   ]
  }
 ],
 "metadata": {
  "kernelspec": {
   "display_name": "Python 3",
   "language": "python",
   "name": "python3"
  },
  "language_info": {
   "codemirror_mode": {
    "name": "ipython",
    "version": 3
   },
   "file_extension": ".py",
   "mimetype": "text/x-python",
   "name": "python",
   "nbconvert_exporter": "python",
   "pygments_lexer": "ipython3",
   "version": "3.7.6"
  }
 },
 "nbformat": 4,
 "nbformat_minor": 4
}
