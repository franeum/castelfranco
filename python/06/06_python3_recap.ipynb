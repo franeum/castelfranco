{
 "cells": [
  {
   "cell_type": "markdown",
   "id": "5686e25c",
   "metadata": {},
   "source": [
    "# Python recap"
   ]
  },
  {
   "cell_type": "markdown",
   "id": "8667487d",
   "metadata": {},
   "source": [
    "## istruzioni sequenziali"
   ]
  },
  {
   "cell_type": "code",
   "execution_count": 7,
   "id": "b6f913f7",
   "metadata": {},
   "outputs": [
    {
     "data": {
      "text/plain": [
       "31.4"
      ]
     },
     "execution_count": 7,
     "metadata": {},
     "output_type": "execute_result"
    }
   ],
   "source": [
    "5 + 6.6 * 4"
   ]
  },
  {
   "cell_type": "code",
   "execution_count": 8,
   "id": "ec88348f",
   "metadata": {},
   "outputs": [
    {
     "data": {
      "text/plain": [
       "46.4"
      ]
     },
     "execution_count": 8,
     "metadata": {},
     "output_type": "execute_result"
    }
   ],
   "source": [
    "(5 + 6.6) * 4"
   ]
  },
  {
   "cell_type": "code",
   "execution_count": 9,
   "id": "c6b42c8e",
   "metadata": {},
   "outputs": [
    {
     "data": {
      "text/plain": [
       "7.5"
      ]
     },
     "execution_count": 9,
     "metadata": {},
     "output_type": "execute_result"
    }
   ],
   "source": [
    "5 * 3 / 2"
   ]
  },
  {
   "cell_type": "code",
   "execution_count": 10,
   "id": "3db98ecd",
   "metadata": {},
   "outputs": [
    {
     "data": {
      "text/plain": [
       "True"
      ]
     },
     "execution_count": 10,
     "metadata": {},
     "output_type": "execute_result"
    }
   ],
   "source": [
    "(5 * 3) / 2 == 5 * (3 / 2)"
   ]
  },
  {
   "cell_type": "code",
   "execution_count": 11,
   "id": "bdf78d7b",
   "metadata": {},
   "outputs": [
    {
     "data": {
      "text/plain": [
       "int"
      ]
     },
     "execution_count": 11,
     "metadata": {},
     "output_type": "execute_result"
    }
   ],
   "source": [
    "type(5)"
   ]
  },
  {
   "cell_type": "code",
   "execution_count": 12,
   "id": "2dd63c76",
   "metadata": {},
   "outputs": [
    {
     "data": {
      "text/plain": [
       "float"
      ]
     },
     "execution_count": 12,
     "metadata": {},
     "output_type": "execute_result"
    }
   ],
   "source": [
    "type(6.6)"
   ]
  },
  {
   "cell_type": "code",
   "execution_count": 13,
   "id": "4516558d",
   "metadata": {},
   "outputs": [
    {
     "data": {
      "text/plain": [
       "bool"
      ]
     },
     "execution_count": 13,
     "metadata": {},
     "output_type": "execute_result"
    }
   ],
   "source": [
    "type((5 * 3) / 2 == 5 * (3 / 2))"
   ]
  },
  {
   "cell_type": "code",
   "execution_count": 14,
   "id": "bf61d6b6",
   "metadata": {},
   "outputs": [
    {
     "data": {
      "text/plain": [
       "'ciao'"
      ]
     },
     "execution_count": 14,
     "metadata": {},
     "output_type": "execute_result"
    }
   ],
   "source": [
    "\"ciao\""
   ]
  },
  {
   "cell_type": "code",
   "execution_count": 15,
   "id": "e6ee9b86",
   "metadata": {},
   "outputs": [
    {
     "data": {
      "text/plain": [
       "str"
      ]
     },
     "execution_count": 15,
     "metadata": {},
     "output_type": "execute_result"
    }
   ],
   "source": [
    "type(\"ciao\")"
   ]
  },
  {
   "cell_type": "code",
   "execution_count": 16,
   "id": "08a4fe60",
   "metadata": {},
   "outputs": [
    {
     "data": {
      "text/plain": [
       "str"
      ]
     },
     "execution_count": 16,
     "metadata": {},
     "output_type": "execute_result"
    }
   ],
   "source": [
    "type('ciao')"
   ]
  },
  {
   "cell_type": "code",
   "execution_count": 17,
   "id": "0d6495dc",
   "metadata": {},
   "outputs": [
    {
     "data": {
      "text/plain": [
       "str"
      ]
     },
     "execution_count": 17,
     "metadata": {},
     "output_type": "execute_result"
    }
   ],
   "source": [
    "type(\"\"\"ciao\"\"\")"
   ]
  },
  {
   "cell_type": "markdown",
   "id": "bebc99b1",
   "metadata": {},
   "source": [
    "## Etichette (label) -> variabili"
   ]
  },
  {
   "cell_type": "code",
   "execution_count": 25,
   "id": "adc9a1e4",
   "metadata": {},
   "outputs": [],
   "source": [
    "pippo = \"ciao mondo\""
   ]
  },
  {
   "cell_type": "code",
   "execution_count": 20,
   "id": "25fa7053",
   "metadata": {},
   "outputs": [
    {
     "data": {
      "text/plain": [
       "'ciao mondo'"
      ]
     },
     "execution_count": 20,
     "metadata": {},
     "output_type": "execute_result"
    }
   ],
   "source": [
    "pippo"
   ]
  },
  {
   "cell_type": "code",
   "execution_count": 21,
   "id": "3b273dd4",
   "metadata": {},
   "outputs": [],
   "source": [
    "pippo = 13"
   ]
  },
  {
   "cell_type": "code",
   "execution_count": 22,
   "id": "61752ffc",
   "metadata": {},
   "outputs": [
    {
     "data": {
      "text/plain": [
       "int"
      ]
     },
     "execution_count": 22,
     "metadata": {},
     "output_type": "execute_result"
    }
   ],
   "source": [
    "type(pippo)"
   ]
  },
  {
   "cell_type": "code",
   "execution_count": 23,
   "id": "e15db901",
   "metadata": {},
   "outputs": [],
   "source": [
    "pippo = 2.3"
   ]
  },
  {
   "cell_type": "code",
   "execution_count": 24,
   "id": "dd7b017e",
   "metadata": {},
   "outputs": [
    {
     "data": {
      "text/plain": [
       "float"
      ]
     },
     "execution_count": 24,
     "metadata": {},
     "output_type": "execute_result"
    }
   ],
   "source": [
    "type(pippo)"
   ]
  },
  {
   "cell_type": "code",
   "execution_count": 27,
   "id": "f50f148f",
   "metadata": {},
   "outputs": [],
   "source": [
    "pippo = \"ciao mondo\""
   ]
  },
  {
   "cell_type": "code",
   "execution_count": 28,
   "id": "c7bfddaa",
   "metadata": {},
   "outputs": [
    {
     "data": {
      "text/plain": [
       "str"
      ]
     },
     "execution_count": 28,
     "metadata": {},
     "output_type": "execute_result"
    }
   ],
   "source": [
    "type(pippo)"
   ]
  },
  {
   "cell_type": "markdown",
   "id": "87ba73b9",
   "metadata": {},
   "source": [
    "### area del triangolo"
   ]
  },
  {
   "cell_type": "code",
   "execution_count": 31,
   "id": "24c757e2",
   "metadata": {},
   "outputs": [],
   "source": [
    "# base, altezza, area"
   ]
  },
  {
   "cell_type": "markdown",
   "id": "ddd80044",
   "metadata": {},
   "source": [
    "## stringhe"
   ]
  },
  {
   "cell_type": "code",
   "execution_count": 32,
   "id": "e87f3bd7",
   "metadata": {},
   "outputs": [
    {
     "data": {
      "text/plain": [
       "('ciao', 'ciao', 'ciao', 'ciao')"
      ]
     },
     "execution_count": 32,
     "metadata": {},
     "output_type": "execute_result"
    }
   ],
   "source": [
    "\"ciao\", 'ciao', '''ciao''', \"\"\"ciao\"\"\""
   ]
  },
  {
   "cell_type": "code",
   "execution_count": null,
   "id": "6f6fd812",
   "metadata": {},
   "outputs": [],
   "source": [
    "\"un'altra volta\""
   ]
  },
  {
   "cell_type": "code",
   "execution_count": 34,
   "id": "acc2ddb3",
   "metadata": {},
   "outputs": [
    {
     "name": "stdout",
     "output_type": "stream",
     "text": [
      "le virgolette sono queste: \"\n"
     ]
    }
   ],
   "source": [
    "print('le virgolette sono queste: \"')"
   ]
  },
  {
   "cell_type": "code",
   "execution_count": 35,
   "id": "786550aa",
   "metadata": {},
   "outputs": [
    {
     "data": {
      "text/plain": [
       "'nel mezzo del cammin di nostra vita,\\nmi ritrovai per una selva oscura'"
      ]
     },
     "execution_count": 35,
     "metadata": {},
     "output_type": "execute_result"
    }
   ],
   "source": [
    "\"nel mezzo del cammin di nostra vita,\\nmi ritrovai per una selva oscura\""
   ]
  },
  {
   "cell_type": "code",
   "execution_count": 36,
   "id": "e0d4eebc",
   "metadata": {},
   "outputs": [
    {
     "name": "stdout",
     "output_type": "stream",
     "text": [
      "nel mezzo del cammin di nostra vita,\n",
      "mi ritrovai per una selva oscura\n"
     ]
    }
   ],
   "source": [
    "print(\"nel mezzo del cammin di nostra vita,\\nmi ritrovai per una selva oscura\")"
   ]
  },
  {
   "cell_type": "code",
   "execution_count": 37,
   "id": "d5c66bf3",
   "metadata": {},
   "outputs": [
    {
     "name": "stdout",
     "output_type": "stream",
     "text": [
      "nel mezzo del cammin...\n",
      "...mi ritrovai...\n"
     ]
    }
   ],
   "source": [
    "print(\"\"\"nel mezzo del cammin...\n",
    "...mi ritrovai...\"\"\")"
   ]
  },
  {
   "cell_type": "code",
   "execution_count": 38,
   "id": "7005952e",
   "metadata": {},
   "outputs": [
    {
     "name": "stdout",
     "output_type": "stream",
     "text": [
      "nel mezzo del camminmi ritrovai\n"
     ]
    }
   ],
   "source": [
    "print(\"nel mezzo del cammin\" \n",
    "     \"mi ritrovai\")"
   ]
  },
  {
   "cell_type": "code",
   "execution_count": 39,
   "id": "4478baa5",
   "metadata": {},
   "outputs": [],
   "source": [
    "pluto = \"Nel mezzo del cammin di nostra vita\""
   ]
  },
  {
   "cell_type": "code",
   "execution_count": 40,
   "id": "60bd7840",
   "metadata": {},
   "outputs": [
    {
     "data": {
      "text/plain": [
       "35"
      ]
     },
     "execution_count": 40,
     "metadata": {},
     "output_type": "execute_result"
    }
   ],
   "source": [
    "len(pluto)"
   ]
  },
  {
   "cell_type": "code",
   "execution_count": 41,
   "id": "555583d5",
   "metadata": {},
   "outputs": [
    {
     "data": {
      "text/plain": [
       "'N'"
      ]
     },
     "execution_count": 41,
     "metadata": {},
     "output_type": "execute_result"
    }
   ],
   "source": [
    "pluto[0]"
   ]
  },
  {
   "cell_type": "code",
   "execution_count": 42,
   "id": "85ef4eed",
   "metadata": {},
   "outputs": [
    {
     "data": {
      "text/plain": [
       "'a'"
      ]
     },
     "execution_count": 42,
     "metadata": {},
     "output_type": "execute_result"
    }
   ],
   "source": [
    "pluto[-1]"
   ]
  },
  {
   "cell_type": "code",
   "execution_count": 44,
   "id": "572bed01",
   "metadata": {},
   "outputs": [
    {
     "data": {
      "text/plain": [
       "'Nel mezzo'"
      ]
     },
     "execution_count": 44,
     "metadata": {},
     "output_type": "execute_result"
    }
   ],
   "source": [
    "pluto[:9]"
   ]
  },
  {
   "cell_type": "code",
   "execution_count": 46,
   "id": "13103d85",
   "metadata": {},
   "outputs": [
    {
     "data": {
      "text/plain": [
       "'Nlmzodlcmi insr ia'"
      ]
     },
     "execution_count": 46,
     "metadata": {},
     "output_type": "execute_result"
    }
   ],
   "source": [
    "pluto[::2]"
   ]
  },
  {
   "cell_type": "code",
   "execution_count": 47,
   "id": "bce91747",
   "metadata": {},
   "outputs": [
    {
     "data": {
      "text/plain": [
       "'e ez e amnd otavt'"
      ]
     },
     "execution_count": 47,
     "metadata": {},
     "output_type": "execute_result"
    }
   ],
   "source": [
    "pluto[1::2]"
   ]
  },
  {
   "cell_type": "code",
   "execution_count": 48,
   "id": "9408f96b",
   "metadata": {},
   "outputs": [
    {
     "data": {
      "text/plain": [
       "'Nlmzodlcmi insr iae ez e amnd otavt'"
      ]
     },
     "execution_count": 48,
     "metadata": {},
     "output_type": "execute_result"
    }
   ],
   "source": [
    "pluto[::2] + pluto[1::2]"
   ]
  },
  {
   "cell_type": "code",
   "execution_count": 50,
   "id": "4aa536b3",
   "metadata": {},
   "outputs": [
    {
     "data": {
      "text/plain": [
       "'ciao ciao ciao ciao ciao '"
      ]
     },
     "execution_count": 50,
     "metadata": {},
     "output_type": "execute_result"
    }
   ],
   "source": [
    "\"ciao \" * 5"
   ]
  },
  {
   "cell_type": "code",
   "execution_count": 53,
   "id": "d0fa3ecc",
   "metadata": {},
   "outputs": [],
   "source": [
    "pluto = pluto * 2"
   ]
  },
  {
   "cell_type": "code",
   "execution_count": 54,
   "id": "e5f8d850",
   "metadata": {},
   "outputs": [
    {
     "data": {
      "text/plain": [
       "'Nel mezzo del cammin di nostra vitaNel mezzo del cammin di nostra vita'"
      ]
     },
     "execution_count": 54,
     "metadata": {},
     "output_type": "execute_result"
    }
   ],
   "source": [
    "pluto"
   ]
  },
  {
   "cell_type": "code",
   "execution_count": 55,
   "id": "74db8e33",
   "metadata": {
    "scrolled": true
   },
   "outputs": [
    {
     "data": {
      "text/plain": [
       "['__add__',\n",
       " '__class__',\n",
       " '__contains__',\n",
       " '__delattr__',\n",
       " '__dir__',\n",
       " '__doc__',\n",
       " '__eq__',\n",
       " '__format__',\n",
       " '__ge__',\n",
       " '__getattribute__',\n",
       " '__getitem__',\n",
       " '__getnewargs__',\n",
       " '__gt__',\n",
       " '__hash__',\n",
       " '__init__',\n",
       " '__init_subclass__',\n",
       " '__iter__',\n",
       " '__le__',\n",
       " '__len__',\n",
       " '__lt__',\n",
       " '__mod__',\n",
       " '__mul__',\n",
       " '__ne__',\n",
       " '__new__',\n",
       " '__reduce__',\n",
       " '__reduce_ex__',\n",
       " '__repr__',\n",
       " '__rmod__',\n",
       " '__rmul__',\n",
       " '__setattr__',\n",
       " '__sizeof__',\n",
       " '__str__',\n",
       " '__subclasshook__',\n",
       " 'capitalize',\n",
       " 'casefold',\n",
       " 'center',\n",
       " 'count',\n",
       " 'encode',\n",
       " 'endswith',\n",
       " 'expandtabs',\n",
       " 'find',\n",
       " 'format',\n",
       " 'format_map',\n",
       " 'index',\n",
       " 'isalnum',\n",
       " 'isalpha',\n",
       " 'isascii',\n",
       " 'isdecimal',\n",
       " 'isdigit',\n",
       " 'isidentifier',\n",
       " 'islower',\n",
       " 'isnumeric',\n",
       " 'isprintable',\n",
       " 'isspace',\n",
       " 'istitle',\n",
       " 'isupper',\n",
       " 'join',\n",
       " 'ljust',\n",
       " 'lower',\n",
       " 'lstrip',\n",
       " 'maketrans',\n",
       " 'partition',\n",
       " 'replace',\n",
       " 'rfind',\n",
       " 'rindex',\n",
       " 'rjust',\n",
       " 'rpartition',\n",
       " 'rsplit',\n",
       " 'rstrip',\n",
       " 'split',\n",
       " 'splitlines',\n",
       " 'startswith',\n",
       " 'strip',\n",
       " 'swapcase',\n",
       " 'title',\n",
       " 'translate',\n",
       " 'upper',\n",
       " 'zfill']"
      ]
     },
     "execution_count": 55,
     "metadata": {},
     "output_type": "execute_result"
    }
   ],
   "source": [
    "dir(pluto)"
   ]
  },
  {
   "cell_type": "code",
   "execution_count": 56,
   "id": "da5868c1",
   "metadata": {},
   "outputs": [
    {
     "data": {
      "text/plain": [
       "'Nel mezzo del cammin di nostra vitanel mezzo del cammin di nostra vita'"
      ]
     },
     "execution_count": 56,
     "metadata": {},
     "output_type": "execute_result"
    }
   ],
   "source": [
    "pluto.capitalize()"
   ]
  },
  {
   "cell_type": "code",
   "execution_count": 57,
   "id": "a10d2a5b",
   "metadata": {},
   "outputs": [
    {
     "data": {
      "text/plain": [
       "'nel mezzo del cammin di nostra vitanel mezzo del cammin di nostra vita'"
      ]
     },
     "execution_count": 57,
     "metadata": {},
     "output_type": "execute_result"
    }
   ],
   "source": [
    "pluto.lower()"
   ]
  },
  {
   "cell_type": "code",
   "execution_count": 58,
   "id": "3a4c9fe6",
   "metadata": {},
   "outputs": [
    {
     "data": {
      "text/plain": [
       "'NEL MEZZO DEL CAMMIN DI NOSTRA VITANEL MEZZO DEL CAMMIN DI NOSTRA VITA'"
      ]
     },
     "execution_count": 58,
     "metadata": {},
     "output_type": "execute_result"
    }
   ],
   "source": [
    "pluto.upper()"
   ]
  },
  {
   "cell_type": "code",
   "execution_count": 59,
   "id": "8aefee42",
   "metadata": {},
   "outputs": [
    {
     "data": {
      "text/plain": [
       "'Nel mezzo del cammin di nostra vitaNel mezzo del cammin di nostra vita'"
      ]
     },
     "execution_count": 59,
     "metadata": {},
     "output_type": "execute_result"
    }
   ],
   "source": [
    "pluto"
   ]
  },
  {
   "cell_type": "code",
   "execution_count": 60,
   "id": "0b3c01cd",
   "metadata": {},
   "outputs": [
    {
     "data": {
      "text/plain": [
       "'Nel Mezzo Del Cammin Di Nostra Vitanel Mezzo Del Cammin Di Nostra Vita'"
      ]
     },
     "execution_count": 60,
     "metadata": {},
     "output_type": "execute_result"
    }
   ],
   "source": [
    "pluto.title()"
   ]
  },
  {
   "cell_type": "code",
   "execution_count": 62,
   "id": "ce18a3f3",
   "metadata": {},
   "outputs": [
    {
     "data": {
      "text/plain": [
       "'ciao ciao ciao ciao ciao'"
      ]
     },
     "execution_count": 62,
     "metadata": {},
     "output_type": "execute_result"
    }
   ],
   "source": [
    "(\"ciao \" * 5).strip()"
   ]
  },
  {
   "cell_type": "code",
   "execution_count": 71,
   "id": "96fbab72",
   "metadata": {},
   "outputs": [],
   "source": [
    "clarabella = \"# ciao #\" * 5"
   ]
  },
  {
   "cell_type": "code",
   "execution_count": 72,
   "id": "c6c5b106",
   "metadata": {},
   "outputs": [
    {
     "data": {
      "text/plain": [
       "'# ciao ## ciao ## ciao ## ciao ## ciao #'"
      ]
     },
     "execution_count": 72,
     "metadata": {},
     "output_type": "execute_result"
    }
   ],
   "source": [
    "clarabella"
   ]
  },
  {
   "cell_type": "code",
   "execution_count": 73,
   "id": "73b5d086",
   "metadata": {},
   "outputs": [
    {
     "data": {
      "text/plain": [
       "'ciao ## ciao ## ciao ## ciao ## ciao'"
      ]
     },
     "execution_count": 73,
     "metadata": {},
     "output_type": "execute_result"
    }
   ],
   "source": [
    "clarabella.strip('# ')"
   ]
  },
  {
   "cell_type": "code",
   "execution_count": 66,
   "id": "5d4667ea",
   "metadata": {},
   "outputs": [
    {
     "name": "stdout",
     "output_type": "stream",
     "text": [
      "Help on built-in function strip:\n",
      "\n",
      "strip(chars=None, /) method of builtins.str instance\n",
      "    Return a copy of the string with leading and trailing whitespace removed.\n",
      "    \n",
      "    If chars is given and not None, remove characters in chars instead.\n",
      "\n"
     ]
    }
   ],
   "source": [
    "help(clarabella.strip)"
   ]
  },
  {
   "cell_type": "code",
   "execution_count": 74,
   "id": "fce5d28f",
   "metadata": {},
   "outputs": [
    {
     "name": "stdout",
     "output_type": "stream",
     "text": [
      "Help on method_descriptor:\n",
      "\n",
      "strip(self, chars=None, /)\n",
      "    Return a copy of the string with leading and trailing whitespace removed.\n",
      "    \n",
      "    If chars is given and not None, remove characters in chars instead.\n",
      "\n"
     ]
    }
   ],
   "source": [
    "help(str.strip)"
   ]
  },
  {
   "cell_type": "code",
   "execution_count": 75,
   "id": "b8e73db9",
   "metadata": {},
   "outputs": [
    {
     "data": {
      "text/plain": [
       "4449276336"
      ]
     },
     "execution_count": 75,
     "metadata": {},
     "output_type": "execute_result"
    }
   ],
   "source": [
    "id(clarabella)"
   ]
  },
  {
   "cell_type": "code",
   "execution_count": null,
   "id": "fecf3cca",
   "metadata": {},
   "outputs": [],
   "source": [
    "# base_minore = ...\n",
    "# base_maggiore = ...\n",
    "# altezza = ...\n",
    "# area = base ... / 2"
   ]
  },
  {
   "cell_type": "markdown",
   "id": "3833288e",
   "metadata": {},
   "source": [
    "## istruzioni condizionali"
   ]
  },
  {
   "cell_type": "markdown",
   "id": "3cf16bf9",
   "metadata": {},
   "source": [
    "se (espressione) allora esegui qualcosa"
   ]
  },
  {
   "cell_type": "code",
   "execution_count": 79,
   "id": "de891f26",
   "metadata": {},
   "outputs": [],
   "source": [
    "x = 15\n",
    "\n",
    "if x > 20:\n",
    "    print(\"ok\")\n",
    "    print('ok')\n",
    "    print('ok ok ok')"
   ]
  },
  {
   "cell_type": "code",
   "execution_count": 80,
   "id": "588c1bf0",
   "metadata": {},
   "outputs": [
    {
     "name": "stdout",
     "output_type": "stream",
     "text": [
      "na na na\n"
     ]
    }
   ],
   "source": [
    "x = 15\n",
    "\n",
    "if x > 20:\n",
    "    print('ok')\n",
    "else:\n",
    "    print('na na na')"
   ]
  },
  {
   "cell_type": "code",
   "execution_count": 81,
   "id": "f772c5f9",
   "metadata": {},
   "outputs": [
    {
     "name": "stdout",
     "output_type": "stream",
     "text": [
      "molto più ok\n"
     ]
    }
   ],
   "source": [
    "x = 15\n",
    "\n",
    "if x > 20:\n",
    "    print('ok')\n",
    "elif x == 15:\n",
    "    print('molto più ok')\n",
    "else:\n",
    "    print('na na na')"
   ]
  },
  {
   "cell_type": "code",
   "execution_count": null,
   "id": "ed539126",
   "metadata": {},
   "outputs": [],
   "source": [
    "# ==, !=, <, >, <=, >="
   ]
  },
  {
   "cell_type": "markdown",
   "id": "b2ba87e2",
   "metadata": {},
   "source": [
    "## input"
   ]
  },
  {
   "cell_type": "code",
   "execution_count": 82,
   "id": "b9767bbd",
   "metadata": {},
   "outputs": [
    {
     "name": "stdout",
     "output_type": "stream",
     "text": [
      "inserisci un numero: 15\n"
     ]
    },
    {
     "data": {
      "text/plain": [
       "'15'"
      ]
     },
     "execution_count": 82,
     "metadata": {},
     "output_type": "execute_result"
    }
   ],
   "source": [
    "input(\"inserisci un numero: \")"
   ]
  },
  {
   "cell_type": "code",
   "execution_count": 83,
   "id": "3c21ac85",
   "metadata": {},
   "outputs": [
    {
     "name": "stdout",
     "output_type": "stream",
     "text": [
      "inserisci un numero: 15\n"
     ]
    }
   ],
   "source": [
    "numero = input(\"inserisci un numero: \")\n",
    "numero = int(numero)"
   ]
  },
  {
   "cell_type": "code",
   "execution_count": 88,
   "id": "6eaddbce",
   "metadata": {},
   "outputs": [
    {
     "name": "stdout",
     "output_type": "stream",
     "text": [
      "inserisci un numero: -15\n",
      "Il valore assoluto di -15 è 15\n"
     ]
    }
   ],
   "source": [
    "numero = input(\"inserisci un numero: \")\n",
    "numero = int(numero)\n",
    "\n",
    "if numero < 0:\n",
    "    assoluto = -numero\n",
    "else:\n",
    "    assoluto = numero\n",
    "\n",
    "print(\"Il valore assoluto di \" + str(numero) + \" è \" + str(assoluto))"
   ]
  },
  {
   "cell_type": "code",
   "execution_count": null,
   "id": "8bdf7338",
   "metadata": {},
   "outputs": [],
   "source": []
  },
  {
   "cell_type": "code",
   "execution_count": null,
   "id": "8fe751ba",
   "metadata": {},
   "outputs": [],
   "source": []
  },
  {
   "cell_type": "markdown",
   "id": "695cec93",
   "metadata": {},
   "source": [
    "# liste"
   ]
  },
  {
   "cell_type": "code",
   "execution_count": 91,
   "id": "0971aabd",
   "metadata": {},
   "outputs": [],
   "source": [
    "prima_lista = [1, 3, 5, 7, 9, 11]"
   ]
  },
  {
   "cell_type": "code",
   "execution_count": 92,
   "id": "c930e38c",
   "metadata": {},
   "outputs": [
    {
     "data": {
      "text/plain": [
       "list"
      ]
     },
     "execution_count": 92,
     "metadata": {},
     "output_type": "execute_result"
    }
   ],
   "source": [
    "type(prima_lista)"
   ]
  },
  {
   "cell_type": "code",
   "execution_count": 93,
   "id": "4c490b20",
   "metadata": {},
   "outputs": [],
   "source": [
    "virgola = [1.3, 2.3, 4.123]"
   ]
  },
  {
   "cell_type": "code",
   "execution_count": 94,
   "id": "3c18f39f",
   "metadata": {},
   "outputs": [],
   "source": [
    "marco = [\"marco\", \"melis\", 21, \"new york\"]"
   ]
  },
  {
   "cell_type": "code",
   "execution_count": 95,
   "id": "95109f3e",
   "metadata": {},
   "outputs": [
    {
     "data": {
      "text/plain": [
       "list"
      ]
     },
     "execution_count": 95,
     "metadata": {},
     "output_type": "execute_result"
    }
   ],
   "source": [
    "type(marco)"
   ]
  },
  {
   "cell_type": "code",
   "execution_count": 96,
   "id": "f63659ce",
   "metadata": {},
   "outputs": [
    {
     "data": {
      "text/plain": [
       "'marco'"
      ]
     },
     "execution_count": 96,
     "metadata": {},
     "output_type": "execute_result"
    }
   ],
   "source": [
    "marco[0]"
   ]
  },
  {
   "cell_type": "code",
   "execution_count": 97,
   "id": "199cc89c",
   "metadata": {},
   "outputs": [
    {
     "data": {
      "text/plain": [
       "'melis'"
      ]
     },
     "execution_count": 97,
     "metadata": {},
     "output_type": "execute_result"
    }
   ],
   "source": [
    "marco[1]"
   ]
  },
  {
   "cell_type": "code",
   "execution_count": 98,
   "id": "189e1a3e",
   "metadata": {},
   "outputs": [
    {
     "data": {
      "text/plain": [
       "str"
      ]
     },
     "execution_count": 98,
     "metadata": {},
     "output_type": "execute_result"
    }
   ],
   "source": [
    "type(marco[1])"
   ]
  },
  {
   "cell_type": "code",
   "execution_count": 99,
   "id": "0ec55ba6",
   "metadata": {},
   "outputs": [
    {
     "data": {
      "text/plain": [
       "int"
      ]
     },
     "execution_count": 99,
     "metadata": {},
     "output_type": "execute_result"
    }
   ],
   "source": [
    "type(marco[2])"
   ]
  },
  {
   "cell_type": "code",
   "execution_count": 100,
   "id": "6e263fd9",
   "metadata": {},
   "outputs": [],
   "source": [
    "marco.append(3)"
   ]
  },
  {
   "cell_type": "code",
   "execution_count": 101,
   "id": "918a69d2",
   "metadata": {},
   "outputs": [
    {
     "data": {
      "text/plain": [
       "['marco', 'melis', 21, 'new york', 3]"
      ]
     },
     "execution_count": 101,
     "metadata": {},
     "output_type": "execute_result"
    }
   ],
   "source": [
    "marco"
   ]
  },
  {
   "cell_type": "code",
   "execution_count": 102,
   "id": "eb231f95",
   "metadata": {},
   "outputs": [
    {
     "data": {
      "text/plain": [
       "5"
      ]
     },
     "execution_count": 102,
     "metadata": {},
     "output_type": "execute_result"
    }
   ],
   "source": [
    "len(marco)"
   ]
  },
  {
   "cell_type": "code",
   "execution_count": 103,
   "id": "ff784a1a",
   "metadata": {},
   "outputs": [
    {
     "data": {
      "text/plain": [
       "4447121600"
      ]
     },
     "execution_count": 103,
     "metadata": {},
     "output_type": "execute_result"
    }
   ],
   "source": [
    "id(marco)"
   ]
  },
  {
   "cell_type": "code",
   "execution_count": 104,
   "id": "ec51f4d1",
   "metadata": {},
   "outputs": [],
   "source": [
    "marco.append(28)"
   ]
  },
  {
   "cell_type": "code",
   "execution_count": 105,
   "id": "636b7995",
   "metadata": {},
   "outputs": [
    {
     "data": {
      "text/plain": [
       "['marco', 'melis', 21, 'new york', 3, 28]"
      ]
     },
     "execution_count": 105,
     "metadata": {},
     "output_type": "execute_result"
    }
   ],
   "source": [
    "marco"
   ]
  },
  {
   "cell_type": "code",
   "execution_count": 106,
   "id": "9c2b1f3f",
   "metadata": {},
   "outputs": [
    {
     "data": {
      "text/plain": [
       "4447121600"
      ]
     },
     "execution_count": 106,
     "metadata": {},
     "output_type": "execute_result"
    }
   ],
   "source": [
    "id(marco)"
   ]
  },
  {
   "cell_type": "code",
   "execution_count": 107,
   "id": "63195748",
   "metadata": {},
   "outputs": [],
   "source": [
    "marco.clear()"
   ]
  },
  {
   "cell_type": "code",
   "execution_count": 108,
   "id": "5cf3daca",
   "metadata": {},
   "outputs": [
    {
     "data": {
      "text/plain": [
       "[]"
      ]
     },
     "execution_count": 108,
     "metadata": {},
     "output_type": "execute_result"
    }
   ],
   "source": [
    "marco"
   ]
  },
  {
   "cell_type": "code",
   "execution_count": 109,
   "id": "0eb1b39f",
   "metadata": {},
   "outputs": [
    {
     "data": {
      "text/plain": [
       "4447121600"
      ]
     },
     "execution_count": 109,
     "metadata": {},
     "output_type": "execute_result"
    }
   ],
   "source": [
    "id(marco)"
   ]
  },
  {
   "cell_type": "code",
   "execution_count": 110,
   "id": "89406f57",
   "metadata": {},
   "outputs": [],
   "source": [
    "marco = ['marco', 'melis', 21, 'new york', 3, 28]"
   ]
  },
  {
   "cell_type": "code",
   "execution_count": 111,
   "id": "eb71418a",
   "metadata": {},
   "outputs": [
    {
     "data": {
      "text/plain": [
       "4448958720"
      ]
     },
     "execution_count": 111,
     "metadata": {},
     "output_type": "execute_result"
    }
   ],
   "source": [
    "id(marco)"
   ]
  },
  {
   "cell_type": "code",
   "execution_count": 112,
   "id": "a167b58c",
   "metadata": {},
   "outputs": [],
   "source": [
    "marco.clear()"
   ]
  },
  {
   "cell_type": "code",
   "execution_count": 113,
   "id": "3a9ab161",
   "metadata": {},
   "outputs": [],
   "source": [
    "marco.extend(['marco', 'melis', 21, 'new york', 3, 28])"
   ]
  },
  {
   "cell_type": "code",
   "execution_count": 114,
   "id": "47e831bc",
   "metadata": {},
   "outputs": [
    {
     "data": {
      "text/plain": [
       "['marco', 'melis', 21, 'new york', 3, 28]"
      ]
     },
     "execution_count": 114,
     "metadata": {},
     "output_type": "execute_result"
    }
   ],
   "source": [
    "marco"
   ]
  },
  {
   "cell_type": "code",
   "execution_count": 115,
   "id": "ce7dc1a1",
   "metadata": {},
   "outputs": [
    {
     "data": {
      "text/plain": [
       "4448958720"
      ]
     },
     "execution_count": 115,
     "metadata": {},
     "output_type": "execute_result"
    }
   ],
   "source": [
    "id(marco)"
   ]
  },
  {
   "cell_type": "code",
   "execution_count": 116,
   "id": "fa8324ed",
   "metadata": {},
   "outputs": [],
   "source": [
    "marco.insert(2, 175)"
   ]
  },
  {
   "cell_type": "code",
   "execution_count": 117,
   "id": "9d1ba74b",
   "metadata": {},
   "outputs": [
    {
     "data": {
      "text/plain": [
       "['marco', 'melis', 175, 21, 'new york', 3, 28]"
      ]
     },
     "execution_count": 117,
     "metadata": {},
     "output_type": "execute_result"
    }
   ],
   "source": [
    "marco"
   ]
  },
  {
   "cell_type": "code",
   "execution_count": 118,
   "id": "68febc01",
   "metadata": {},
   "outputs": [],
   "source": [
    "marco.remove(175)"
   ]
  },
  {
   "cell_type": "code",
   "execution_count": 119,
   "id": "91093a1f",
   "metadata": {},
   "outputs": [
    {
     "data": {
      "text/plain": [
       "['marco', 'melis', 21, 'new york', 3, 28]"
      ]
     },
     "execution_count": 119,
     "metadata": {},
     "output_type": "execute_result"
    }
   ],
   "source": [
    "marco"
   ]
  },
  {
   "cell_type": "code",
   "execution_count": 120,
   "id": "6b8b30a5",
   "metadata": {},
   "outputs": [],
   "source": [
    "marco.extend([175, 175, 175])"
   ]
  },
  {
   "cell_type": "code",
   "execution_count": 121,
   "id": "8e5a1d71",
   "metadata": {},
   "outputs": [
    {
     "data": {
      "text/plain": [
       "['marco', 'melis', 21, 'new york', 3, 28, 175, 175, 175]"
      ]
     },
     "execution_count": 121,
     "metadata": {},
     "output_type": "execute_result"
    }
   ],
   "source": [
    "marco"
   ]
  },
  {
   "cell_type": "code",
   "execution_count": 122,
   "id": "d5f2c118",
   "metadata": {},
   "outputs": [
    {
     "data": {
      "text/plain": [
       "3"
      ]
     },
     "execution_count": 122,
     "metadata": {},
     "output_type": "execute_result"
    }
   ],
   "source": [
    "marco.count(175)"
   ]
  },
  {
   "cell_type": "code",
   "execution_count": 123,
   "id": "72de2445",
   "metadata": {},
   "outputs": [],
   "source": [
    "marco.remove(3)\n",
    "marco.remove(21)\n",
    "marco.remove(28)"
   ]
  },
  {
   "cell_type": "code",
   "execution_count": 124,
   "id": "d37d4d0c",
   "metadata": {},
   "outputs": [
    {
     "data": {
      "text/plain": [
       "['marco', 'melis', 'new york', 175, 175, 175]"
      ]
     },
     "execution_count": 124,
     "metadata": {},
     "output_type": "execute_result"
    }
   ],
   "source": [
    "marco"
   ]
  },
  {
   "cell_type": "code",
   "execution_count": 125,
   "id": "4378c5b5",
   "metadata": {},
   "outputs": [
    {
     "ename": "TypeError",
     "evalue": "'<' not supported between instances of 'int' and 'str'",
     "output_type": "error",
     "traceback": [
      "\u001b[0;31m---------------------------------------------------------------------------\u001b[0m",
      "\u001b[0;31mTypeError\u001b[0m                                 Traceback (most recent call last)",
      "\u001b[0;32m<ipython-input-125-6003a96d2c97>\u001b[0m in \u001b[0;36m<module>\u001b[0;34m\u001b[0m\n\u001b[0;32m----> 1\u001b[0;31m \u001b[0mmarco\u001b[0m\u001b[0;34m.\u001b[0m\u001b[0msort\u001b[0m\u001b[0;34m(\u001b[0m\u001b[0;34m)\u001b[0m\u001b[0;34m\u001b[0m\u001b[0;34m\u001b[0m\u001b[0m\n\u001b[0m",
      "\u001b[0;31mTypeError\u001b[0m: '<' not supported between instances of 'int' and 'str'"
     ]
    }
   ],
   "source": [
    "marco.sort()"
   ]
  },
  {
   "cell_type": "code",
   "execution_count": 131,
   "id": "12fe4d15",
   "metadata": {},
   "outputs": [],
   "source": [
    "marco.sort()"
   ]
  },
  {
   "cell_type": "code",
   "execution_count": 132,
   "id": "f189791e",
   "metadata": {},
   "outputs": [
    {
     "data": {
      "text/plain": [
       "['marco', 'melis', 'new york']"
      ]
     },
     "execution_count": 132,
     "metadata": {},
     "output_type": "execute_result"
    }
   ],
   "source": [
    "marco"
   ]
  },
  {
   "cell_type": "code",
   "execution_count": 133,
   "id": "a33bd041",
   "metadata": {},
   "outputs": [],
   "source": [
    "marco.reverse()"
   ]
  },
  {
   "cell_type": "code",
   "execution_count": 134,
   "id": "36652717",
   "metadata": {},
   "outputs": [
    {
     "data": {
      "text/plain": [
       "['new york', 'melis', 'marco']"
      ]
     },
     "execution_count": 134,
     "metadata": {},
     "output_type": "execute_result"
    }
   ],
   "source": [
    "marco"
   ]
  },
  {
   "cell_type": "code",
   "execution_count": null,
   "id": "3ed47f26",
   "metadata": {},
   "outputs": [],
   "source": [
    "# metodi\n",
    "list.count(item) # contare le occorrenze di item nella lista\n",
    "list.append(item) # aggiunge item alla fine della lista\n",
    "list.extend(item) # concatena la lista item alla lista list\n",
    "list.insert(index, item) # inserisce l'elemento item all'indice index\n",
    "list.remove(item) # rimuove la prima occorrenza di item\n",
    "list.clear() # svuota la lista\n",
    "list.sort() # ordina una lista omogenea\n",
    "list.pop(index) # elimina dalla lista l'elemento all'indice index e ne restituisce il valore\n",
    "list.pop() # elimina l'ultimo elemento e lo restituisce\n",
    "\n",
    "# funzioni\n",
    "len(lista)\n",
    "max(lista)\n",
    "min(lista)\n",
    "sum(lista)"
   ]
  },
  {
   "cell_type": "code",
   "execution_count": 135,
   "id": "3f50f290",
   "metadata": {},
   "outputs": [],
   "source": [
    "numeri = [1,3,5,7,9,11]"
   ]
  },
  {
   "cell_type": "code",
   "execution_count": 136,
   "id": "87e528d5",
   "metadata": {},
   "outputs": [
    {
     "data": {
      "text/plain": [
       "11"
      ]
     },
     "execution_count": 136,
     "metadata": {},
     "output_type": "execute_result"
    }
   ],
   "source": [
    "numeri.pop()"
   ]
  },
  {
   "cell_type": "code",
   "execution_count": 137,
   "id": "be17658f",
   "metadata": {},
   "outputs": [
    {
     "data": {
      "text/plain": [
       "[1, 3, 5, 7, 9]"
      ]
     },
     "execution_count": 137,
     "metadata": {},
     "output_type": "execute_result"
    }
   ],
   "source": [
    "numeri"
   ]
  },
  {
   "cell_type": "code",
   "execution_count": 138,
   "id": "6a27253e",
   "metadata": {},
   "outputs": [],
   "source": [
    "x = numeri.pop()"
   ]
  },
  {
   "cell_type": "code",
   "execution_count": 139,
   "id": "990cac93",
   "metadata": {},
   "outputs": [
    {
     "data": {
      "text/plain": [
       "9"
      ]
     },
     "execution_count": 139,
     "metadata": {},
     "output_type": "execute_result"
    }
   ],
   "source": [
    "x"
   ]
  },
  {
   "cell_type": "code",
   "execution_count": 140,
   "id": "fc2c3925",
   "metadata": {},
   "outputs": [
    {
     "data": {
      "text/plain": [
       "[1, 3, 5, 7]"
      ]
     },
     "execution_count": 140,
     "metadata": {},
     "output_type": "execute_result"
    }
   ],
   "source": [
    "numeri"
   ]
  },
  {
   "cell_type": "code",
   "execution_count": 141,
   "id": "51098e71",
   "metadata": {},
   "outputs": [],
   "source": [
    "y = numeri.pop(1)"
   ]
  },
  {
   "cell_type": "code",
   "execution_count": 143,
   "id": "c7494b9b",
   "metadata": {},
   "outputs": [
    {
     "data": {
      "text/plain": [
       "3"
      ]
     },
     "execution_count": 143,
     "metadata": {},
     "output_type": "execute_result"
    }
   ],
   "source": [
    "y"
   ]
  },
  {
   "cell_type": "code",
   "execution_count": 147,
   "id": "fd0287ac",
   "metadata": {},
   "outputs": [
    {
     "data": {
      "text/plain": [
       "[1, 5, 7]"
      ]
     },
     "execution_count": 147,
     "metadata": {},
     "output_type": "execute_result"
    }
   ],
   "source": [
    "numeri"
   ]
  },
  {
   "cell_type": "code",
   "execution_count": 150,
   "id": "65b11a84",
   "metadata": {},
   "outputs": [
    {
     "data": {
      "text/plain": [
       "'ciaomondo'"
      ]
     },
     "execution_count": 150,
     "metadata": {},
     "output_type": "execute_result"
    }
   ],
   "source": [
    "\"ciao\" + \"mondo\""
   ]
  },
  {
   "cell_type": "code",
   "execution_count": 152,
   "id": "e7316376",
   "metadata": {},
   "outputs": [
    {
     "ename": "TypeError",
     "evalue": "can only concatenate list (not \"int\") to list",
     "output_type": "error",
     "traceback": [
      "\u001b[0;31m---------------------------------------------------------------------------\u001b[0m",
      "\u001b[0;31mTypeError\u001b[0m                                 Traceback (most recent call last)",
      "\u001b[0;32m<ipython-input-152-a794e8cfa556>\u001b[0m in \u001b[0;36m<module>\u001b[0;34m\u001b[0m\n\u001b[0;32m----> 1\u001b[0;31m \u001b[0;34m[\u001b[0m\u001b[0;36m1\u001b[0m\u001b[0;34m,\u001b[0m\u001b[0;36m2\u001b[0m\u001b[0;34m,\u001b[0m\u001b[0;36m3\u001b[0m\u001b[0;34m]\u001b[0m \u001b[0;34m+\u001b[0m \u001b[0;36m4\u001b[0m\u001b[0;34m\u001b[0m\u001b[0;34m\u001b[0m\u001b[0m\n\u001b[0m",
      "\u001b[0;31mTypeError\u001b[0m: can only concatenate list (not \"int\") to list"
     ]
    }
   ],
   "source": [
    "[1,2,3] + 4"
   ]
  },
  {
   "cell_type": "code",
   "execution_count": 153,
   "id": "7e7f1df1",
   "metadata": {},
   "outputs": [
    {
     "data": {
      "text/plain": [
       "[1, 2, 3, 4]"
      ]
     },
     "execution_count": 153,
     "metadata": {},
     "output_type": "execute_result"
    }
   ],
   "source": [
    "[1,2,3] + [4]"
   ]
  },
  {
   "cell_type": "code",
   "execution_count": 154,
   "id": "c769dd0a",
   "metadata": {},
   "outputs": [
    {
     "data": {
      "text/plain": [
       "['romaromaromaroma']"
      ]
     },
     "execution_count": 154,
     "metadata": {},
     "output_type": "execute_result"
    }
   ],
   "source": [
    "[\"roma\" * 4]"
   ]
  },
  {
   "cell_type": "code",
   "execution_count": 157,
   "id": "fa103b6e",
   "metadata": {},
   "outputs": [
    {
     "data": {
      "text/plain": [
       "['roma', 'roma', 'roma', 'roma']"
      ]
     },
     "execution_count": 157,
     "metadata": {},
     "output_type": "execute_result"
    }
   ],
   "source": [
    "[\"roma\"] * 4"
   ]
  },
  {
   "cell_type": "code",
   "execution_count": 158,
   "id": "41eeb8c8",
   "metadata": {},
   "outputs": [],
   "source": [
    "lst = [1,3,5,7,9]"
   ]
  },
  {
   "cell_type": "code",
   "execution_count": 159,
   "id": "f42a0856",
   "metadata": {},
   "outputs": [],
   "source": [
    "lst.extend([11] * 4)"
   ]
  },
  {
   "cell_type": "code",
   "execution_count": 160,
   "id": "519af69a",
   "metadata": {},
   "outputs": [
    {
     "data": {
      "text/plain": [
       "[1, 3, 5, 7, 9, 11, 11, 11, 11]"
      ]
     },
     "execution_count": 160,
     "metadata": {},
     "output_type": "execute_result"
    }
   ],
   "source": [
    "lst"
   ]
  }
 ],
 "metadata": {
  "kernelspec": {
   "display_name": "Python 3",
   "language": "python",
   "name": "python3"
  },
  "language_info": {
   "codemirror_mode": {
    "name": "ipython",
    "version": 3
   },
   "file_extension": ".py",
   "mimetype": "text/x-python",
   "name": "python",
   "nbconvert_exporter": "python",
   "pygments_lexer": "ipython3",
   "version": "3.8.8"
  }
 },
 "nbformat": 4,
 "nbformat_minor": 5
}
