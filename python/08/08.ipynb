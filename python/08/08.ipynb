{
 "cells": [
  {
   "cell_type": "markdown",
   "id": "65f12a1c",
   "metadata": {},
   "source": [
    "# Esercizio 1\n",
    "\n",
    "Scrivi un algoritmo che stampi un grafico che mostri la lunghezza dei valori in una lista. Ogni numero costituirà una stringa formata dal simbolo \\*.\n",
    "\n",
    "Esempio, la lista `[1,5,12]` corrisponderà alle seguenti 3 stringhe:\n",
    "\n",
    "```\n",
    "*\n",
    "*****\n",
    "************\n",
    "```"
   ]
  },
  {
   "cell_type": "code",
   "execution_count": 2,
   "id": "31fe23a4",
   "metadata": {},
   "outputs": [],
   "source": [
    "# svolgimento"
   ]
  },
  {
   "cell_type": "markdown",
   "id": "e77d36b9",
   "metadata": {},
   "source": [
    "# Esercizio 2\n",
    "\n",
    "Scrivi un algoritmo che accetti una frase (come stringa) e che restituisca una lista formata dalla lunghezza di ogni parola.\n",
    "\n",
    "Esempio:\n",
    "\n",
    "```\n",
    "\"buongiorno a tutti voi\"\n",
    "\n",
    ">>> [10, 1, 5, 3]\n",
    "```\n"
   ]
  },
  {
   "cell_type": "code",
   "execution_count": 1,
   "id": "31c00ce5",
   "metadata": {},
   "outputs": [],
   "source": [
    "# svolgimento"
   ]
  },
  {
   "cell_type": "markdown",
   "id": "dabe94f0",
   "metadata": {},
   "source": [
    "# Esercizio 3\n",
    "\n",
    "\n",
    "\n",
    "Scrivi un algoritmo che prenda 3 valori: `giorni, ore, minuti` e che restituisca la somma tra queste grandezze espressa in secondi\n",
    "\n",
    "Esempio:\n",
    "\n",
    "```\n",
    "giorni = 1\n",
    "ore = 13\n",
    "secondi = 4\n",
    ">>> 133440\n",
    "```\n",
    "\n",
    "bonus: aggiungere la funzione **input()** affinché le ore, i minuti e i secondi possano essere inseriti interattivamente."
   ]
  },
  {
   "cell_type": "code",
   "execution_count": 3,
   "id": "1a727501",
   "metadata": {},
   "outputs": [],
   "source": [
    "# svolgimento"
   ]
  },
  {
   "cell_type": "markdown",
   "id": "e36dff68",
   "metadata": {},
   "source": [
    "# Esercizio 4\n",
    "\n",
    "Scrivi una algoritmo che retituisca una lista con i numeri i numeri da 0 a *n* eccetto quelli che sono multipli di 3\n",
    "\n",
    "Esempio:\n",
    "\n",
    "```\n",
    "n = 10\n",
    ">>> [0,1,2,4,5,7,8,10]\n",
    "```"
   ]
  },
  {
   "cell_type": "code",
   "execution_count": 4,
   "id": "14b0d2d5",
   "metadata": {},
   "outputs": [],
   "source": [
    "# svolgimento"
   ]
  },
  {
   "cell_type": "markdown",
   "id": "040b18b5",
   "metadata": {},
   "source": [
    "# Esercizio 5\n",
    "\n",
    "Scrivi un algoritmo che restituisca il numero di cifre contenute in una stringa\n",
    "\n",
    "Esempio:\n",
    "\n",
    "```\n",
    "stringa = \"ciao io ho 13 anni\"\n",
    ">>> 2\n",
    "```"
   ]
  },
  {
   "cell_type": "code",
   "execution_count": 5,
   "id": "f43a0f09",
   "metadata": {},
   "outputs": [],
   "source": [
    "# svolgimento"
   ]
  },
  {
   "cell_type": "markdown",
   "id": "2df99900",
   "metadata": {},
   "source": [
    "# Esercizio 6\n",
    "\n",
    "Scrivere un algoritmo che prenda una stringa e stampi il numero di lettere e il numero di cifre presenti nella stringa.\n",
    "\n",
    "Esempio:\n",
    "\n",
    "```\n",
    "stringa = 'esercizio n. 2.3'\n",
    "\n",
    ">>> Lettere: 10\n",
    ">>> Cifre: 2\n",
    "```"
   ]
  },
  {
   "cell_type": "code",
   "execution_count": 6,
   "id": "4392a66a",
   "metadata": {},
   "outputs": [],
   "source": [
    "# svolgimento"
   ]
  }
 ],
 "metadata": {
  "kernelspec": {
   "display_name": "Python 3",
   "language": "python",
   "name": "python3"
  },
  "language_info": {
   "codemirror_mode": {
    "name": "ipython",
    "version": 3
   },
   "file_extension": ".py",
   "mimetype": "text/x-python",
   "name": "python",
   "nbconvert_exporter": "python",
   "pygments_lexer": "ipython3",
   "version": "3.8.8"
  }
 },
 "nbformat": 4,
 "nbformat_minor": 5
}
