{
 "cells": [
  {
   "cell_type": "markdown",
   "metadata": {
    "ExecuteTime": {
     "end_time": "2021-06-07T12:41:25.482856Z",
     "start_time": "2021-06-07T12:41:25.476887Z"
    }
   },
   "source": [
    "# Espressioni e Numeri"
   ]
  },
  {
   "cell_type": "markdown",
   "metadata": {},
   "source": [
    "Python **vàluta** espressioni, cioè sequenze di valori e operatori. Nella sua forma più semplice, un'espressione è costituita da operandi e operatori, come in una calcolatrice. Gli operandi sono **valori**, mentre gli operatori sono i simboli che definiscono le operazioni da compiere sugli operandi."
   ]
  },
  {
   "cell_type": "code",
   "execution_count": 7,
   "metadata": {
    "ExecuteTime": {
     "end_time": "2021-06-07T13:05:43.845745Z",
     "start_time": "2021-06-07T13:05:43.836270Z"
    }
   },
   "outputs": [
    {
     "data": {
      "text/plain": [
       "5"
      ]
     },
     "execution_count": 7,
     "metadata": {},
     "output_type": "execute_result"
    }
   ],
   "source": [
    "# il 2 e il 3 sono gli operandi (valori), il + è l'operatore di addizione\n",
    "\n",
    "2 + 3"
   ]
  },
  {
   "cell_type": "markdown",
   "metadata": {},
   "source": [
    "## Valutazione"
   ]
  },
  {
   "cell_type": "markdown",
   "metadata": {},
   "source": [
    "Nell'interprete interattivo (che si avvia dal terminale), la valutazione avviene premendo **INVIO**, qui su Jupyter avviene invece *eseguendo* la cella con la combinazione CTRL+INVIO (o CMD per il MAC)"
   ]
  },
  {
   "cell_type": "code",
   "execution_count": 8,
   "metadata": {
    "ExecuteTime": {
     "end_time": "2021-06-07T13:05:48.357967Z",
     "start_time": "2021-06-07T13:05:48.355121Z"
    }
   },
   "outputs": [
    {
     "data": {
      "text/plain": [
       "6"
      ]
     },
     "execution_count": 8,
     "metadata": {},
     "output_type": "execute_result"
    }
   ],
   "source": [
    "2 * 3"
   ]
  },
  {
   "cell_type": "markdown",
   "metadata": {},
   "source": [
    "## Interi e decimali (int e float)"
   ]
  },
  {
   "cell_type": "markdown",
   "metadata": {},
   "source": [
    "Si possono usare numeri interi e numeri con la virgola. I primi appartengono alla classe **int**, gli altri alla classe **float**. Per verificare l'appartenenza di un valore ad una **classe** (o a un **tipo**, che è la stessa cosa), si usa la funzione **type**"
   ]
  },
  {
   "cell_type": "code",
   "execution_count": 27,
   "metadata": {
    "ExecuteTime": {
     "end_time": "2021-06-07T14:09:35.982274Z",
     "start_time": "2021-06-07T14:09:35.979359Z"
    }
   },
   "outputs": [
    {
     "data": {
      "text/plain": [
       "int"
      ]
     },
     "execution_count": 27,
     "metadata": {},
     "output_type": "execute_result"
    }
   ],
   "source": [
    "type(10)"
   ]
  },
  {
   "cell_type": "code",
   "execution_count": 28,
   "metadata": {
    "ExecuteTime": {
     "end_time": "2021-06-07T14:09:42.157598Z",
     "start_time": "2021-06-07T14:09:42.148285Z"
    }
   },
   "outputs": [
    {
     "data": {
      "text/plain": [
       "float"
      ]
     },
     "execution_count": 28,
     "metadata": {},
     "output_type": "execute_result"
    }
   ],
   "source": [
    "type(6.3)"
   ]
  },
  {
   "cell_type": "markdown",
   "metadata": {},
   "source": [
    "Come accade anche sulle calcolatrici, la virgola si rappresenta con il simbolo del punto (.)"
   ]
  },
  {
   "cell_type": "code",
   "execution_count": 29,
   "metadata": {
    "ExecuteTime": {
     "end_time": "2021-06-07T14:10:42.763487Z",
     "start_time": "2021-06-07T14:10:42.760174Z"
    }
   },
   "outputs": [
    {
     "data": {
      "text/plain": [
       "4.7"
      ]
     },
     "execution_count": 29,
     "metadata": {},
     "output_type": "execute_result"
    }
   ],
   "source": [
    "#numero con la virgola\n",
    "\n",
    "4.7"
   ]
  },
  {
   "cell_type": "markdown",
   "metadata": {
    "ExecuteTime": {
     "end_time": "2021-06-07T13:52:25.336444Z",
     "start_time": "2021-06-07T13:52:25.333086Z"
    }
   },
   "source": [
    "Se moltiplico, sommo o sottraggo numeri interi, otterrò come valore un numero intero"
   ]
  },
  {
   "cell_type": "markdown",
   "metadata": {},
   "source": [
    "Se invece divido due numeri interi, otterrò sempre un numero float, cioè con la virgola"
   ]
  },
  {
   "cell_type": "code",
   "execution_count": 25,
   "metadata": {
    "ExecuteTime": {
     "end_time": "2021-06-07T13:53:27.181538Z",
     "start_time": "2021-06-07T13:53:27.166505Z"
    }
   },
   "outputs": [
    {
     "data": {
      "text/plain": [
       "1.3333333333333333"
      ]
     },
     "execution_count": 25,
     "metadata": {},
     "output_type": "execute_result"
    }
   ],
   "source": [
    "4 / 3"
   ]
  },
  {
   "cell_type": "markdown",
   "metadata": {},
   "source": [
    "Anche nel caso di una divisione intera (cioè che restituisca un numero intero)"
   ]
  },
  {
   "cell_type": "code",
   "execution_count": 26,
   "metadata": {
    "ExecuteTime": {
     "end_time": "2021-06-07T13:53:58.283558Z",
     "start_time": "2021-06-07T13:53:58.274526Z"
    }
   },
   "outputs": [
    {
     "data": {
      "text/plain": [
       "2.0"
      ]
     },
     "execution_count": 26,
     "metadata": {},
     "output_type": "execute_result"
    }
   ],
   "source": [
    "4 / 2"
   ]
  },
  {
   "cell_type": "markdown",
   "metadata": {},
   "source": [
    "Se in un'operazione è coinvolto almeno un numero con la virgola, la valutazione avrà come esito un numero con la virgola"
   ]
  },
  {
   "cell_type": "code",
   "execution_count": 31,
   "metadata": {
    "ExecuteTime": {
     "end_time": "2021-06-07T14:14:29.786737Z",
     "start_time": "2021-06-07T14:14:29.783653Z"
    }
   },
   "outputs": [
    {
     "data": {
      "text/plain": [
       "8.0"
      ]
     },
     "execution_count": 31,
     "metadata": {},
     "output_type": "execute_result"
    }
   ],
   "source": [
    "4.0 + 6 - 2"
   ]
  },
  {
   "cell_type": "markdown",
   "metadata": {},
   "source": [
    "Gli operatori per le operazioni sono quelli tradizionali:\n",
    "\n",
    "```\n",
    "+\n",
    "-\n",
    "*\n",
    "/\n",
    "```"
   ]
  },
  {
   "cell_type": "markdown",
   "metadata": {},
   "source": [
    "Tali operatori possono essere combinati per formare espressioni più complesse"
   ]
  },
  {
   "cell_type": "code",
   "execution_count": 11,
   "metadata": {
    "ExecuteTime": {
     "end_time": "2021-06-07T13:16:58.382783Z",
     "start_time": "2021-06-07T13:16:58.379607Z"
    }
   },
   "outputs": [
    {
     "data": {
      "text/plain": [
       "10"
      ]
     },
     "execution_count": 11,
     "metadata": {},
     "output_type": "execute_result"
    }
   ],
   "source": [
    "2 * 3 + 4"
   ]
  },
  {
   "cell_type": "markdown",
   "metadata": {},
   "source": [
    "## Precedenza"
   ]
  },
  {
   "cell_type": "markdown",
   "metadata": {},
   "source": [
    "le operazioni vengono svolte secondo un ordine stabilito dall'ordine di precedenza delle operazioni:\n",
    "\n",
    "1. $*,/$\n",
    "2. $+,-$"
   ]
  },
  {
   "cell_type": "code",
   "execution_count": 17,
   "metadata": {
    "ExecuteTime": {
     "end_time": "2021-06-07T13:41:33.972673Z",
     "start_time": "2021-06-07T13:41:33.962517Z"
    }
   },
   "outputs": [
    {
     "data": {
      "text/plain": [
       "11"
      ]
     },
     "execution_count": 17,
     "metadata": {},
     "output_type": "execute_result"
    }
   ],
   "source": [
    "# viene eseguita prima la moltiplicazione, poi l'addizione\n",
    "\n",
    "2 * 4 + 3\n",
    "\n",
    "# prima viene eseguito 2 * 4 (che fa 8)\n",
    "# poi 8 + 3"
   ]
  },
  {
   "cell_type": "markdown",
   "metadata": {},
   "source": [
    "Se inverto gli operatori (e gli operandi), la valutazione da lo stesso valore, perché viene comunque eseguita prima la moltiplicazione"
   ]
  },
  {
   "cell_type": "code",
   "execution_count": 18,
   "metadata": {
    "ExecuteTime": {
     "end_time": "2021-06-07T13:42:18.731882Z",
     "start_time": "2021-06-07T13:42:18.723634Z"
    }
   },
   "outputs": [
    {
     "data": {
      "text/plain": [
       "11"
      ]
     },
     "execution_count": 18,
     "metadata": {},
     "output_type": "execute_result"
    }
   ],
   "source": [
    "3 + 2 * 4"
   ]
  },
  {
   "cell_type": "markdown",
   "metadata": {},
   "source": [
    "Se volessi effettuare prima l'addizione dovrei usare le parentesi tonde per *sovvertire* l'ordine di precedenza"
   ]
  },
  {
   "cell_type": "code",
   "execution_count": 20,
   "metadata": {
    "ExecuteTime": {
     "end_time": "2021-06-07T13:44:10.908184Z",
     "start_time": "2021-06-07T13:44:10.903794Z"
    }
   },
   "outputs": [
    {
     "data": {
      "text/plain": [
       "20"
      ]
     },
     "execution_count": 20,
     "metadata": {},
     "output_type": "execute_result"
    }
   ],
   "source": [
    "# Qui viene eseguita prima l'addizione e poi la moltiplicazione\n",
    "\n",
    "(3 + 2) * 4 "
   ]
  },
  {
   "cell_type": "markdown",
   "metadata": {},
   "source": [
    "# Esercizi"
   ]
  },
  {
   "cell_type": "markdown",
   "metadata": {},
   "source": [
    "## Area del trapezio\n",
    "\n",
    "Sapendo che l'area del trapezio si calcola in questo modo:\n",
    "$$\\frac{(base_{maggiore} + base_{minore}) \\cdot altezza}{2}$$\n",
    "calcola l'area del trapezio avente le seguenti misure:\n",
    "$$base_{maggiore} = 14.8$$\n",
    "$$base_{minore} = 10.9$$\n",
    "$$altezza =  6.1$$"
   ]
  },
  {
   "cell_type": "code",
   "execution_count": null,
   "metadata": {},
   "outputs": [],
   "source": [
    "# Eleva al quadrato la somma del cubo di 2 e del quadrato di 1, poi dividi il risultato per 27"
   ]
  },
  {
   "cell_type": "code",
   "execution_count": 33,
   "metadata": {
    "ExecuteTime": {
     "end_time": "2021-06-07T14:43:57.728183Z",
     "start_time": "2021-06-07T14:43:57.725191Z"
    }
   },
   "outputs": [
    {
     "data": {
      "text/plain": [
       "3.0"
      ]
     },
     "execution_count": 33,
     "metadata": {},
     "output_type": "execute_result"
    }
   ],
   "source": [
    "(2**3 + 1**2)**2 / 27"
   ]
  },
  {
   "cell_type": "code",
   "execution_count": 35,
   "metadata": {
    "ExecuteTime": {
     "end_time": "2021-06-07T15:41:04.593850Z",
     "start_time": "2021-06-07T15:41:04.586916Z"
    }
   },
   "outputs": [
    {
     "data": {
      "text/plain": [
       "15"
      ]
     },
     "execution_count": 35,
     "metadata": {},
     "output_type": "execute_result"
    }
   ],
   "source": [
    "13 + 3\n",
    "14 / 2\n",
    "15"
   ]
  },
  {
   "cell_type": "code",
   "execution_count": 36,
   "metadata": {
    "ExecuteTime": {
     "end_time": "2021-06-07T15:53:41.931490Z",
     "start_time": "2021-06-07T15:53:41.925560Z"
    }
   },
   "outputs": [],
   "source": [
    "a = \"ciao\""
   ]
  },
  {
   "cell_type": "code",
   "execution_count": 40,
   "metadata": {
    "ExecuteTime": {
     "end_time": "2021-06-07T16:08:34.448432Z",
     "start_time": "2021-06-07T16:08:34.445870Z"
    }
   },
   "outputs": [
    {
     "name": "stdout",
     "output_type": "stream",
     "text": [
      "12 ciao 16 20\n"
     ]
    }
   ],
   "source": [
    "print(12,\"ciao\",16,20)"
   ]
  },
  {
   "cell_type": "code",
   "execution_count": 42,
   "metadata": {
    "ExecuteTime": {
     "end_time": "2021-06-07T16:09:32.729591Z",
     "start_time": "2021-06-07T16:09:32.721774Z"
    }
   },
   "outputs": [
    {
     "name": "stdout",
     "output_type": "stream",
     "text": [
      "90 = 100 - 10\n"
     ]
    }
   ],
   "source": [
    "print (100-10, \"= 100 - 10\")"
   ]
  },
  {
   "cell_type": "code",
   "execution_count": 43,
   "metadata": {
    "ExecuteTime": {
     "end_time": "2021-06-07T16:17:54.088277Z",
     "start_time": "2021-06-07T16:17:54.085959Z"
    }
   },
   "outputs": [
    {
     "name": "stdout",
     "output_type": "stream",
     "text": [
      "O   O\n",
      "---\n"
     ]
    }
   ],
   "source": [
    "print ('O   O')\n",
    "print ('---')"
   ]
  },
  {
   "cell_type": "code",
   "execution_count": 44,
   "metadata": {
    "ExecuteTime": {
     "end_time": "2021-06-07T16:20:57.334084Z",
     "start_time": "2021-06-07T16:20:57.330998Z"
    }
   },
   "outputs": [
    {
     "name": "stdout",
     "output_type": "stream",
     "text": [
      "che bello il telefonino\n",
      "è bello il mio cane Joe!\n"
     ]
    }
   ],
   "source": [
    "scatola = \"che bello il telefonino\"\n",
    "print (scatola)\n",
    "farfalla = \"cane\"\n",
    "print (\"è bello il mio\", farfalla, \"Joe!\")"
   ]
  }
 ],
 "metadata": {
  "kernelspec": {
   "display_name": "Python 3.7.4 64-bit ('base')",
   "language": "python",
   "name": "python37464bitbasedbe2c570a92e42729e3820c618bf5962"
  },
  "language_info": {
   "codemirror_mode": {
    "name": "ipython",
    "version": 3
   },
   "file_extension": ".py",
   "mimetype": "text/x-python",
   "name": "python",
   "nbconvert_exporter": "python",
   "pygments_lexer": "ipython3",
   "version": "3.7.4"
  },
  "toc": {
   "base_numbering": 1,
   "nav_menu": {},
   "number_sections": true,
   "sideBar": true,
   "skip_h1_title": false,
   "title_cell": "Table of Contents",
   "title_sidebar": "Contents",
   "toc_cell": false,
   "toc_position": {},
   "toc_section_display": true,
   "toc_window_display": false
  }
 },
 "nbformat": 4,
 "nbformat_minor": 2
}
